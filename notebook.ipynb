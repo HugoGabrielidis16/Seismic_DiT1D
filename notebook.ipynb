{
 "cells": [
  {
   "cell_type": "code",
   "execution_count": null,
   "id": "835544c2",
   "metadata": {},
   "outputs": [],
   "source": [
    "import torch\n",
    "import numpy as np\n",
    "import matplotlib.pyplot as plt\n",
    "from util.normalization import normalize\n",
    "from util.load_model import load_torchscript_model,load_pga_model\n",
    "from util.visualize import amplitude_graph, frequencyloglog_graph\n",
    "from util.load_samples import load_data\n",
    "\n",
    "device = \"cuda\" if torch.cuda.is_available() else \"cpu\"\n",
    "sample_path = \"test_samples/\"\n",
    "saving_path = \"generated_samples/\"\n",
    "\n",
    "pga_model =\"XGBoost\"\n",
    "use_ddim = True\n",
    "diffusion_steps = 50\n",
    "predict_xstart = False\n"
   ]
  },
  {
   "cell_type": "code",
   "execution_count": null,
   "id": "94a2ec88",
   "metadata": {},
   "outputs": [],
   "source": [
    "diffusion_model = load_torchscript_model().to(device)\n",
    "pga_model = load_pga_model(model_name = pga_model, device=device)\n",
    "dataset = load_data(sample_path)"
   ]
  },
  {
   "cell_type": "code",
   "execution_count": null,
   "id": "e4a09469",
   "metadata": {},
   "outputs": [],
   "source": [
    "with torch.no_grad():\n",
    "    for i, sample in enumerate(dataset):\n",
    "        # Assuming sample is a tensor of shape (batch_size, channels, height, width)\n",
    "        x,y = sample\n",
    "        prediction = diffusion_model(x, diffusion_steps=diffusion_steps)\n",
    "        amplitude_graph(y, prediction, x, i, path = saving_path, show = True)\n",
    "        frequencyloglog_graph(y, prediction, x, i, path = saving_path, show = True)\n",
    "        \n"
   ]
  }
 ],
 "metadata": {
  "kernelspec": {
   "display_name": "alice",
   "language": "python",
   "name": "python3"
  },
  "language_info": {
   "codemirror_mode": {
    "name": "ipython",
    "version": 3
   },
   "file_extension": ".py",
   "mimetype": "text/x-python",
   "name": "python",
   "nbconvert_exporter": "python",
   "pygments_lexer": "ipython3",
   "version": "3.9.16"
  }
 },
 "nbformat": 4,
 "nbformat_minor": 5
}
